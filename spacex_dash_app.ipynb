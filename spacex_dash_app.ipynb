{
    "cells": [
        {
            "cell_type": "code",
            "execution_count": 1,
            "id": "b78bb50e",
            "metadata": {},
            "outputs": [],
            "source": "# Import required libraries\nimport pandas as pd\nimport dash\nimport dash_html_components as html\nimport dash_core_components as dcc\nfrom dash.dependencies import Input, Output\nimport plotly.express as px"
        },
        {
            "cell_type": "code",
            "execution_count": 2,
            "id": "b879b497",
            "metadata": {},
            "outputs": [],
            "source": "# Read the airline data into pandas dataframe\nspacex_df = pd.read_csv(\"spacex_launch_dash.csv\")\nmax_payload = spacex_df['Payload Mass (kg)'].max()\nmin_payload = spacex_df['Payload Mass (kg)'].min()"
        },
        {
            "cell_type": "code",
            "execution_count": 3,
            "id": "281ac581",
            "metadata": {},
            "outputs": [],
            "source": "# Create a dash application\napp = dash.Dash(__name__)"
        },
        {
            "cell_type": "code",
            "execution_count": 4,
            "id": "dab3cc66",
            "metadata": {},
            "outputs": [],
            "source": "# Create an app layout\napp.layout = html.Div(children=[html.H1('SpaceX Launch Records Dashboard',\n                                        style={'textAlign': 'center', 'color': '#503D36',\n                                               'font-size': 40}),\n                                # TASK 1: Add a dropdown list to enable Launch Site selection\n                                # The default select value is for ALL sites\n                                # dcc.Dropdown(id='site-dropdown',...)\n                                dcc.Dropdown(id='site-dropdown',options=[\n                                        {'label':'All Sites','value':'ALL'},\n                                        {'label':'CCAFS LC-40','value':'CCAFS SLC-40'},\n                                        {'label':'VAFB SLC-4E','value':'VAFB SLC-4E'},\n                                        {'label':'KSC LC-39A','value':'KSC LC-39A'}\n                                    ],value='ALL',\n                                    placeholder='Select a Launch Site here', \n                                    style={'width':'80%','padding':'3px','font-size':'20px','text-align-last':'center'\n                                    },searchable=True),\n                                html.Br(),\n\n                                # TASK 2: Add a pie chart to show the total successful launches count for all sites\n                                # If a specific launch site was selected, show the Success vs. Failed counts for the site\n                                html.Div(dcc.Graph(id='success-pie-chart')),\n                                html.Br(),\n\n                                html.P(\"Payload range (Kg):\"),\n                                # TASK 3: Add a slider to select payload range\n                                dcc.RangeSlider(id='payload-slider',\n                                                min=0,\n                                                max=10000,\n                                                step=1000,\n                                                marks={0: '0', 10000: '10000'},\n                                                value=[min_payload,max_payload]),\n\n                                # TASK 4: Add a scatter chart to show the correlation between payload and launch success\n                                html.Div(dcc.Graph(id='success-payload-scatter-chart')),\n                                ])"
        },
        {
            "cell_type": "code",
            "execution_count": 5,
            "id": "f45f49e0",
            "metadata": {},
            "outputs": [],
            "source": "# TASK 2:\n# Add a callback function for `site-dropdown` as input, `success-pie-chart` as output\n@app.callback(Output(component_id='success-pie-chart', component_property='figure'),\nInput(component_id='site-dropdown', component_property='value'))\n\ndef load_pie_chart(site_dropdown):\n    if site_dropdown == 'ALL':\n        fig = px.pie(spacex_df,values='class',names=\"Launch Site\",title='Total successfull launches')\n        return fig\n    else:\n        df = spacex_df[spacex_df['Launch Site'] == site_dropdown]\n        launch_site = df.groupby(['Launch Site','class']).size().reset_index(name='class count')\n        fig = px.pie(launch_site,values='class count',names='class',title=f'Success Launches for {site_dropdown}')\n        return fig"
        },
        {
            "cell_type": "code",
            "execution_count": 6,
            "id": "efca3dca",
            "metadata": {},
            "outputs": [],
            "source": "# TASK 4:\n# Add a callback function for `site-dropdown` and `payload-slider` as inputs, `success-payload-scatter-chart` as output\n@app.callback(Output(component_id='success-payload-scatter-chart', component_property='figure'),\n[Input(component_id='site-dropdown', component_property='value'), Input(component_id=\"payload-slider\", component_property=\"value\")])\ndef load_scatter(site_dropdown,slider_range):\n    low, high = slider_range\n    df = spacex_df[spacex_df['Payload Mass (kg)'].between(low,high)]\n    if site_dropdown == 'ALL':\n        scatterTitle='Payload Mass vs. Outcome for All Launch Sites'\n        fig = px.scatter(df,x='Payload Mass (kg)',y='class',color='Booster Version Category', title=scatterTitle)\n        return fig\n    else:\n        df_fil = df[df['Launch Site']  == site_dropdown]\n        scatterTitle=f'Payload mass vs. Outcome for Launch Site {site_dropdown}'\n        fig = px.scatter(df_fil,x='Payload Mass (kg)',y='class',color='Booster Version Category', title=scatterTitle)\n        return fig\n"
        },
        {
            "cell_type": "code",
            "execution_count": null,
            "id": "01c7b04f",
            "metadata": {},
            "outputs": [
                {
                    "name": "stdout",
                    "output_type": "stream",
                    "text": "Dash is running on http://127.0.0.1:8050/\n\n * Serving Flask app \"__main__\" (lazy loading)\n * Environment: production\n   WARNING: This is a development server. Do not use it in a production deployment.\n   Use a production WSGI server instead.\n * Debug mode: off\n"
                },
                {
                    "name": "stderr",
                    "output_type": "stream",
                    "text": " * Running on http://127.0.0.1:8050/ (Press CTRL+C to quit)\n127.0.0.1 - - [15/Sep/2021 15:56:20] \"\u001b[37mGET / HTTP/1.1\u001b[0m\" 200 -\n127.0.0.1 - - [15/Sep/2021 15:56:20] \"\u001b[37mGET /_dash-component-suites/dash/deps/polyfill@7.v1_21_0m1628533169.12.1.min.js HTTP/1.1\u001b[0m\" 200 -\n127.0.0.1 - - [15/Sep/2021 15:56:20] \"\u001b[37mGET /_dash-component-suites/dash/deps/prop-types@15.v1_21_0m1628533169.7.2.min.js HTTP/1.1\u001b[0m\" 200 -\n127.0.0.1 - - [15/Sep/2021 15:56:21] \"\u001b[37mGET /_dash-component-suites/dash/deps/react@16.v1_21_0m1628533169.14.0.min.js HTTP/1.1\u001b[0m\" 200 -\n127.0.0.1 - - [15/Sep/2021 15:56:21] \"\u001b[37mGET /_dash-component-suites/dash_core_components/dash_core_components-shared.v1_17_1m1628533168.js HTTP/1.1\u001b[0m\" 200 -\n127.0.0.1 - - [15/Sep/2021 15:56:21] \"\u001b[37mGET /_dash-component-suites/dash/deps/react-dom@16.v1_21_0m1628533169.14.0.min.js HTTP/1.1\u001b[0m\" 200 -\n127.0.0.1 - - [15/Sep/2021 15:56:21] \"\u001b[37mGET /_dash-component-suites/dash_html_components/dash_html_components.v1_1_4m1628533166.min.js HTTP/1.1\u001b[0m\" 200 -\n127.0.0.1 - - [15/Sep/2021 15:56:21] \"\u001b[37mGET /_dash-component-suites/dash_core_components/dash_core_components.v1_17_1m1628533168.js HTTP/1.1\u001b[0m\" 200 -\n127.0.0.1 - - [15/Sep/2021 15:56:21] \"\u001b[37mGET /_dash-component-suites/dash/dash-renderer/build/dash_renderer.v1_21_0m1628533169.min.js HTTP/1.1\u001b[0m\" 200 -\n127.0.0.1 - - [15/Sep/2021 15:56:21] \"\u001b[37mGET /_dash-layout HTTP/1.1\u001b[0m\" 200 -\n127.0.0.1 - - [15/Sep/2021 15:56:21] \"\u001b[37mGET /_dash-dependencies HTTP/1.1\u001b[0m\" 200 -\n127.0.0.1 - - [15/Sep/2021 15:56:21] \"\u001b[37mGET /_favicon.ico?v=1.21.0 HTTP/1.1\u001b[0m\" 200 -\n127.0.0.1 - - [15/Sep/2021 15:56:21] \"\u001b[37mGET /_dash-component-suites/dash_core_components/async-graph.js HTTP/1.1\u001b[0m\" 200 -\n127.0.0.1 - - [15/Sep/2021 15:56:21] \"\u001b[37mGET /_dash-component-suites/dash_core_components/async-dropdown.js HTTP/1.1\u001b[0m\" 200 -\n127.0.0.1 - - [15/Sep/2021 15:56:21] \"\u001b[37mGET /_dash-component-suites/dash_core_components/async-slider.js HTTP/1.1\u001b[0m\" 200 -\n127.0.0.1 - - [15/Sep/2021 15:56:22] \"\u001b[37mGET /_dash-component-suites/dash_core_components/async-plotlyjs.js HTTP/1.1\u001b[0m\" 200 -\n127.0.0.1 - - [15/Sep/2021 15:56:55] \"\u001b[37mPOST /_dash-update-component HTTP/1.1\u001b[0m\" 200 -\n127.0.0.1 - - [15/Sep/2021 15:56:55] \"\u001b[37mPOST /_dash-update-component HTTP/1.1\u001b[0m\" 200 -\n127.0.0.1 - - [15/Sep/2021 15:56:55] \"\u001b[37mPOST /_dash-update-component HTTP/1.1\u001b[0m\" 200 -\n127.0.0.1 - - [15/Sep/2021 15:56:55] \"\u001b[37mPOST /_dash-update-component HTTP/1.1\u001b[0m\" 200 -\n127.0.0.1 - - [15/Sep/2021 15:56:55] \"\u001b[37mPOST /_dash-update-component HTTP/1.1\u001b[0m\" 200 -\n127.0.0.1 - - [15/Sep/2021 15:56:55] \"\u001b[37mPOST /_dash-update-component HTTP/1.1\u001b[0m\" 200 -\n127.0.0.1 - - [15/Sep/2021 15:56:55] \"\u001b[37mPOST /_dash-update-component HTTP/1.1\u001b[0m\" 200 -\n"
                }
            ],
            "source": "# Run the app\nif __name__ == '__main__':\n    app.run_server()"
        },
        {
            "cell_type": "code",
            "execution_count": null,
            "id": "1cc62094",
            "metadata": {},
            "outputs": [],
            "source": ""
        }
    ],
    "metadata": {
        "kernelspec": {
            "display_name": "Python 3.8",
            "language": "python",
            "name": "python3"
        },
        "language_info": {
            "codemirror_mode": {
                "name": "ipython",
                "version": 3
            },
            "file_extension": ".py",
            "mimetype": "text/x-python",
            "name": "python",
            "nbconvert_exporter": "python",
            "pygments_lexer": "ipython3",
            "version": "3.8.11"
        }
    },
    "nbformat": 4,
    "nbformat_minor": 5
}